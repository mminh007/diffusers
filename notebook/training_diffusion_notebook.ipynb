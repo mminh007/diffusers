{
 "cells": [
  {
   "cell_type": "code",
   "execution_count": null,
   "id": "8e4be5f5",
   "metadata": {},
   "outputs": [],
   "source": [
    "def train(config):\n",
    "    args = \"\"\n",
    "    for k, v in config.items():\n",
    "        if k.startswith(\"_\"):\n",
    "            args += f'\"{v}\" '\n",
    "        elif isinstance(v, str):\n",
    "            args += f'--{k}=\"{v}\" '\n",
    "        elif isinstance(v, bool) and v:\n",
    "            args += f\"--{k} \"\n",
    "        elif isinstance(v, (float, int)) and not isinstance(v, bool):\n",
    "            args += f\"--{k}={v} \"\n",
    "        elif isinstance(v, list):\n",
    "            # Convert list to comma-separated string\n",
    "            args += f\"--{k} \" + \" \".join(str(i) for i in v) + \" \"\n",
    "    return args"
   ]
  },
  {
   "cell_type": "code",
   "execution_count": null,
   "id": "4208a22b",
   "metadata": {},
   "outputs": [],
   "source": [
    "save_dir = \"/content/outputs\"\n",
    "imgsz = 32\n",
    "lr = 1e-4\n",
    "epochs = 50\n",
    "in_chans = 3\n",
    "hidden_dim = 64\n",
    "is_attn = [False, False, True, True]\n",
    "logs = \"/content/logs\"\n",
    "early_stop = 10\n",
    "batch = 16\n",
    "device = \"cpu\""
   ]
  },
  {
   "cell_type": "code",
   "execution_count": null,
   "id": "87837a93",
   "metadata": {},
   "outputs": [],
   "source": [
    "train_config = {\n",
    "    \"save-dir\": save_dir,\n",
    "    \"imgsz\": imgsz,\n",
    "    \"lr\": lr,\n",
    "    \"epochs\": epochs,\n",
    "    \"in-chans\": in_chans,\n",
    "    \"hidden-dim\": hidden_dim,\n",
    "    \"log-dir\": logs,\n",
    "    \"early-stop-patience\": early_stop,\n",
    "    \"batch\": batch,\n",
    "    \"is-attn\": is_attn,\n",
    "    \"devices\": device,\n",
    "}"
   ]
  },
  {
   "cell_type": "code",
   "execution_count": null,
   "id": "01747127",
   "metadata": {},
   "outputs": [],
   "source": [
    "train_args = train(train_config)\n",
    "script = f\"\"\"\n",
    "python /content/diffuser/train_ddpm.py {train_args} --residual\n",
    "\"\"\"\n",
    "\n",
    "print(script)"
   ]
  },
  {
   "cell_type": "code",
   "execution_count": null,
   "id": "79d108f3",
   "metadata": {},
   "outputs": [],
   "source": [
    "!{script}"
   ]
  },
  {
   "cell_type": "code",
   "execution_count": null,
   "id": "9e0f0fce",
   "metadata": {},
   "outputs": [],
   "source": []
  }
 ],
 "metadata": {
  "language_info": {
   "name": "python"
  }
 },
 "nbformat": 4,
 "nbformat_minor": 5
}
